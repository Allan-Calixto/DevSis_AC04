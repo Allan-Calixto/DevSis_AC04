{
 "cells": [
  {
   "cell_type": "markdown",
   "metadata": {},
   "source": [
    "#Analise de dados"
   ]
  },
  {
   "cell_type": "code",
   "execution_count": 15,
   "metadata": {},
   "outputs": [],
   "source": [
    "#importando bibliotecas.\n",
    "\n",
    "import pandas as pd\n",
    "import seaborn as sns\n",
    "import matplotlib.pyplot as plt\n",
    "%matplotlib inline"
   ]
  },
  {
   "cell_type": "code",
   "execution_count": 5,
   "metadata": {},
   "outputs": [
    {
     "data": {
      "text/html": [
       "<div>\n",
       "<style scoped>\n",
       "    .dataframe tbody tr th:only-of-type {\n",
       "        vertical-align: middle;\n",
       "    }\n",
       "\n",
       "    .dataframe tbody tr th {\n",
       "        vertical-align: top;\n",
       "    }\n",
       "\n",
       "    .dataframe thead th {\n",
       "        text-align: right;\n",
       "    }\n",
       "</style>\n",
       "<table border=\"1\" class=\"dataframe\">\n",
       "  <thead>\n",
       "    <tr style=\"text-align: right;\">\n",
       "      <th></th>\n",
       "      <th>Semana</th>\n",
       "      <th>python: (Brasil)</th>\n",
       "      <th>html: (Brasil)</th>\n",
       "      <th>java: (Brasil)</th>\n",
       "      <th>Microsoft SQL Server: (Brasil)</th>\n",
       "      <th>Microsoft Excel: (Brasil)</th>\n",
       "    </tr>\n",
       "  </thead>\n",
       "  <tbody>\n",
       "    <tr>\n",
       "      <td>0</td>\n",
       "      <td>2019-05-19</td>\n",
       "      <td>26</td>\n",
       "      <td>19</td>\n",
       "      <td>35</td>\n",
       "      <td>8</td>\n",
       "      <td>98</td>\n",
       "    </tr>\n",
       "    <tr>\n",
       "      <td>1</td>\n",
       "      <td>2019-05-26</td>\n",
       "      <td>22</td>\n",
       "      <td>20</td>\n",
       "      <td>37</td>\n",
       "      <td>8</td>\n",
       "      <td>98</td>\n",
       "    </tr>\n",
       "    <tr>\n",
       "      <td>2</td>\n",
       "      <td>2019-06-02</td>\n",
       "      <td>24</td>\n",
       "      <td>18</td>\n",
       "      <td>36</td>\n",
       "      <td>9</td>\n",
       "      <td>98</td>\n",
       "    </tr>\n",
       "    <tr>\n",
       "      <td>3</td>\n",
       "      <td>2019-06-09</td>\n",
       "      <td>24</td>\n",
       "      <td>19</td>\n",
       "      <td>36</td>\n",
       "      <td>9</td>\n",
       "      <td>92</td>\n",
       "    </tr>\n",
       "    <tr>\n",
       "      <td>4</td>\n",
       "      <td>2019-06-16</td>\n",
       "      <td>23</td>\n",
       "      <td>17</td>\n",
       "      <td>32</td>\n",
       "      <td>7</td>\n",
       "      <td>81</td>\n",
       "    </tr>\n",
       "    <tr>\n",
       "      <td>5</td>\n",
       "      <td>2019-06-23</td>\n",
       "      <td>25</td>\n",
       "      <td>17</td>\n",
       "      <td>33</td>\n",
       "      <td>9</td>\n",
       "      <td>92</td>\n",
       "    </tr>\n",
       "    <tr>\n",
       "      <td>6</td>\n",
       "      <td>2019-06-30</td>\n",
       "      <td>25</td>\n",
       "      <td>17</td>\n",
       "      <td>33</td>\n",
       "      <td>8</td>\n",
       "      <td>97</td>\n",
       "    </tr>\n",
       "    <tr>\n",
       "      <td>7</td>\n",
       "      <td>2019-07-07</td>\n",
       "      <td>22</td>\n",
       "      <td>15</td>\n",
       "      <td>30</td>\n",
       "      <td>8</td>\n",
       "      <td>85</td>\n",
       "    </tr>\n",
       "    <tr>\n",
       "      <td>8</td>\n",
       "      <td>2019-07-14</td>\n",
       "      <td>22</td>\n",
       "      <td>16</td>\n",
       "      <td>32</td>\n",
       "      <td>9</td>\n",
       "      <td>89</td>\n",
       "    </tr>\n",
       "    <tr>\n",
       "      <td>9</td>\n",
       "      <td>2019-07-21</td>\n",
       "      <td>21</td>\n",
       "      <td>15</td>\n",
       "      <td>30</td>\n",
       "      <td>8</td>\n",
       "      <td>87</td>\n",
       "    </tr>\n",
       "  </tbody>\n",
       "</table>\n",
       "</div>"
      ],
      "text/plain": [
       "       Semana  python: (Brasil)  html: (Brasil)  java: (Brasil)  \\\n",
       "0  2019-05-19                26              19              35   \n",
       "1  2019-05-26                22              20              37   \n",
       "2  2019-06-02                24              18              36   \n",
       "3  2019-06-09                24              19              36   \n",
       "4  2019-06-16                23              17              32   \n",
       "5  2019-06-23                25              17              33   \n",
       "6  2019-06-30                25              17              33   \n",
       "7  2019-07-07                22              15              30   \n",
       "8  2019-07-14                22              16              32   \n",
       "9  2019-07-21                21              15              30   \n",
       "\n",
       "   Microsoft SQL Server: (Brasil)  Microsoft Excel: (Brasil)  \n",
       "0                               8                         98  \n",
       "1                               8                         98  \n",
       "2                               9                         98  \n",
       "3                               9                         92  \n",
       "4                               7                         81  \n",
       "5                               9                         92  \n",
       "6                               8                         97  \n",
       "7                               8                         85  \n",
       "8                               9                         89  \n",
       "9                               8                         87  "
      ]
     },
     "execution_count": 5,
     "metadata": {},
     "output_type": "execute_result"
    }
   ],
   "source": [
    "#cirando dataframe\n",
    "\n",
    "df= pd.read_csv('multiTimeline.csv', skiprows=1)\n",
    "\n",
    "df.head(10)"
   ]
  },
  {
   "cell_type": "code",
   "execution_count": 4,
   "metadata": {},
   "outputs": [
    {
     "data": {
      "text/html": [
       "<div>\n",
       "<style scoped>\n",
       "    .dataframe tbody tr th:only-of-type {\n",
       "        vertical-align: middle;\n",
       "    }\n",
       "\n",
       "    .dataframe tbody tr th {\n",
       "        vertical-align: top;\n",
       "    }\n",
       "\n",
       "    .dataframe thead th {\n",
       "        text-align: right;\n",
       "    }\n",
       "</style>\n",
       "<table border=\"1\" class=\"dataframe\">\n",
       "  <thead>\n",
       "    <tr style=\"text-align: right;\">\n",
       "      <th></th>\n",
       "      <th></th>\n",
       "      <th></th>\n",
       "      <th></th>\n",
       "      <th></th>\n",
       "      <th>Categoria: Todas as categorias</th>\n",
       "    </tr>\n",
       "  </thead>\n",
       "  <tbody>\n",
       "    <tr>\n",
       "      <td>2020-03-08</td>\n",
       "      <td>25</td>\n",
       "      <td>18</td>\n",
       "      <td>34</td>\n",
       "      <td>8</td>\n",
       "      <td>86</td>\n",
       "    </tr>\n",
       "    <tr>\n",
       "      <td>2020-03-15</td>\n",
       "      <td>23</td>\n",
       "      <td>15</td>\n",
       "      <td>31</td>\n",
       "      <td>7</td>\n",
       "      <td>76</td>\n",
       "    </tr>\n",
       "    <tr>\n",
       "      <td>2020-03-22</td>\n",
       "      <td>25</td>\n",
       "      <td>16</td>\n",
       "      <td>33</td>\n",
       "      <td>6</td>\n",
       "      <td>77</td>\n",
       "    </tr>\n",
       "    <tr>\n",
       "      <td>2020-03-29</td>\n",
       "      <td>23</td>\n",
       "      <td>15</td>\n",
       "      <td>30</td>\n",
       "      <td>6</td>\n",
       "      <td>81</td>\n",
       "    </tr>\n",
       "    <tr>\n",
       "      <td>2020-04-05</td>\n",
       "      <td>23</td>\n",
       "      <td>15</td>\n",
       "      <td>26</td>\n",
       "      <td>6</td>\n",
       "      <td>67</td>\n",
       "    </tr>\n",
       "    <tr>\n",
       "      <td>2020-04-12</td>\n",
       "      <td>24</td>\n",
       "      <td>15</td>\n",
       "      <td>30</td>\n",
       "      <td>6</td>\n",
       "      <td>75</td>\n",
       "    </tr>\n",
       "    <tr>\n",
       "      <td>2020-04-19</td>\n",
       "      <td>24</td>\n",
       "      <td>15</td>\n",
       "      <td>28</td>\n",
       "      <td>4</td>\n",
       "      <td>67</td>\n",
       "    </tr>\n",
       "    <tr>\n",
       "      <td>2020-04-26</td>\n",
       "      <td>25</td>\n",
       "      <td>16</td>\n",
       "      <td>30</td>\n",
       "      <td>5</td>\n",
       "      <td>73</td>\n",
       "    </tr>\n",
       "    <tr>\n",
       "      <td>2020-05-03</td>\n",
       "      <td>25</td>\n",
       "      <td>16</td>\n",
       "      <td>31</td>\n",
       "      <td>6</td>\n",
       "      <td>80</td>\n",
       "    </tr>\n",
       "    <tr>\n",
       "      <td>2020-05-10</td>\n",
       "      <td>27</td>\n",
       "      <td>17</td>\n",
       "      <td>31</td>\n",
       "      <td>6</td>\n",
       "      <td>87</td>\n",
       "    </tr>\n",
       "  </tbody>\n",
       "</table>\n",
       "</div>"
      ],
      "text/plain": [
       "                      Categoria: Todas as categorias\n",
       "2020-03-08 25 18 34 8                             86\n",
       "2020-03-15 23 15 31 7                             76\n",
       "2020-03-22 25 16 33 6                             77\n",
       "2020-03-29 23 15 30 6                             81\n",
       "2020-04-05 23 15 26 6                             67\n",
       "2020-04-12 24 15 30 6                             75\n",
       "2020-04-19 24 15 28 4                             67\n",
       "2020-04-26 25 16 30 5                             73\n",
       "2020-05-03 25 16 31 6                             80\n",
       "2020-05-10 27 17 31 6                             87"
      ]
     },
     "execution_count": 4,
     "metadata": {},
     "output_type": "execute_result"
    }
   ],
   "source": [
    "df.tail(10)"
   ]
  },
  {
   "cell_type": "code",
   "execution_count": 8,
   "metadata": {},
   "outputs": [
    {
     "data": {
      "text/plain": [
       "Semana                            object\n",
       "python: (Brasil)                   int64\n",
       "html: (Brasil)                     int64\n",
       "java: (Brasil)                     int64\n",
       "Microsoft SQL Server: (Brasil)     int64\n",
       "Microsoft Excel: (Brasil)          int64\n",
       "dtype: object"
      ]
     },
     "execution_count": 8,
     "metadata": {},
     "output_type": "execute_result"
    }
   ],
   "source": [
    "df.dtypes"
   ]
  },
  {
   "cell_type": "code",
   "execution_count": 9,
   "metadata": {},
   "outputs": [],
   "source": [
    "#alterando o campo Semana de Object para datetime\n",
    "df['Semana'] = pd.to_datetime(df['Semana'])"
   ]
  },
  {
   "cell_type": "code",
   "execution_count": 10,
   "metadata": {},
   "outputs": [
    {
     "data": {
      "text/plain": [
       "Semana                            datetime64[ns]\n",
       "python: (Brasil)                           int64\n",
       "html: (Brasil)                             int64\n",
       "java: (Brasil)                             int64\n",
       "Microsoft SQL Server: (Brasil)             int64\n",
       "Microsoft Excel: (Brasil)                  int64\n",
       "dtype: object"
      ]
     },
     "execution_count": 10,
     "metadata": {},
     "output_type": "execute_result"
    }
   ],
   "source": [
    "df.dtypes"
   ]
  },
  {
   "cell_type": "code",
   "execution_count": 16,
   "metadata": {},
   "outputs": [
    {
     "name": "stdout",
     "output_type": "stream",
     "text": [
      "<class 'pandas.core.frame.DataFrame'>\n",
      "RangeIndex: 52 entries, 0 to 51\n",
      "Data columns (total 6 columns):\n",
      "Semana                            52 non-null datetime64[ns]\n",
      "python: (Brasil)                  52 non-null int64\n",
      "html: (Brasil)                    52 non-null int64\n",
      "java: (Brasil)                    52 non-null int64\n",
      "Microsoft SQL Server: (Brasil)    52 non-null int64\n",
      "Microsoft Excel: (Brasil)         52 non-null int64\n",
      "dtypes: datetime64[ns](1), int64(5)\n",
      "memory usage: 2.6 KB\n"
     ]
    }
   ],
   "source": [
    "df.info()"
   ]
  },
  {
   "cell_type": "code",
   "execution_count": 29,
   "metadata": {},
   "outputs": [
    {
     "data": {
      "image/png": "[encoded data removed]",
      "text/plain": [
       "<Figure size 432x288 with 1 Axes>"
      ]
     },
     "metadata": {
      "needs_background": "light"
     },
     "output_type": "display_data"
    }
   ],
   "source": [
    "sns.barplot(x='Semana', y='python: (Brasil)', data=df)\n",
    "\n",
    "#Ajustando as legendas\n",
    "\n",
    "plt.xticks(rotation=55)\n",
    "plt.show()"
   ]
  },
  {
   "cell_type": "code",
   "execution_count": null,
   "metadata": {},
   "outputs": [],
   "source": []
  }
 ],
 "metadata": {
  "kernelspec": {
   "display_name": "Python 3",
   "language": "python",
   "name": "python3"
  },
  "language_info": {
   "codemirror_mode": {
    "name": "ipython",
    "version": 3
   },
   "file_extension": ".py",
   "mimetype": "text/x-python",
   "name": "python",
   "nbconvert_exporter": "python",
   "pygments_lexer": "ipython3",
   "version": "3.7.4"
  }
 },
 "nbformat": 4,
 "nbformat_minor": 2
}
